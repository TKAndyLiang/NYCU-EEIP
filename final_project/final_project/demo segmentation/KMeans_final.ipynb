{
 "cells": [
  {
   "cell_type": "markdown",
   "metadata": {},
   "source": [
    "# Collect water data for the training set."
   ]
  },
  {
   "cell_type": "markdown",
   "metadata": {},
   "source": [
    "### Collect water data"
   ]
  },
  {
   "cell_type": "code",
   "execution_count": null,
   "metadata": {},
   "outputs": [],
   "source": [
    "import cv2\n",
    "import numpy as np\n",
    "from sklearn.cluster import KMeans\n",
    "from sklearn.preprocessing import StandardScaler\n",
    "import matplotlib.pyplot as plt\n",
    "from scipy.spatial import ConvexHull\n",
    "from skimage import feature\n",
    "import json"
   ]
  },
  {
   "cell_type": "code",
   "execution_count": null,
   "metadata": {},
   "outputs": [],
   "source": [
    "point_list = []\n",
    "lbp_list = []\n",
    "for i in range(1,61):\n",
    "    # Read training data image\n",
    "    image = cv2.imread(f'./training_dataset/image/{i}.jpg')\n",
    "    image = cv2.cvtColor(image, cv2.COLOR_BGR2RGB)\n",
    "    image_hsv = cv2.cvtColor(image, cv2.COLOR_RGB2HSV)\n",
    "    image_gray = cv2.cvtColor(image, cv2.COLOR_RGB2GRAY)\n",
    "    \n",
    "    # Use K-means with k = 10 for image segmentation.\n",
    "    pixels = image_hsv.reshape(-1, 3)\n",
    "    k_value = 10\n",
    "    kmeans = KMeans(n_clusters=k_value)\n",
    "    kmeans.fit(pixels)\n",
    "    labels = kmeans.labels_\n",
    "    segmented_image = labels.reshape(image.shape[:2])\n",
    "\n",
    "    # Read training data mask\n",
    "    mask = cv2.imread(f'./training_dataset/mask/{i}.jpg', cv2.IMREAD_GRAYSCALE)\n",
    "\n",
    "    # Find the segment with the maximum intersection with the mask.\n",
    "    intersection_areas = []\n",
    "    mean_hsv_values = []\n",
    "    mean_lbp_values = []\n",
    "    for label_value in range(k_value):\n",
    "        label_mask = (segmented_image == label_value).reshape(image.shape[:2])\n",
    "\n",
    "        # intersection\n",
    "        intersection = cv2.bitwise_and(label_mask.astype(np.uint8), mask)\n",
    "        intersection_area = np.sum(intersection)\n",
    "        intersection_areas.append(intersection_area)\n",
    "        pixels_in_cluster = image_hsv[label_mask]\n",
    "\n",
    "        # LBP feature\n",
    "        lbp_feature = feature.local_binary_pattern(image_gray, P=8, R=1, method=\"uniform\")\n",
    "        lbp_mean = np.mean(lbp_feature[label_mask])\n",
    "\n",
    "        # Calculate the average HSV in the segment\n",
    "        mean_lbp_values.append(lbp_mean)\n",
    "        mean_hsv = np.mean(pixels_in_cluster, axis=0)\n",
    "        mean_hsv_values.append(mean_hsv)\n",
    "    max_intersection_label = np.argmax(intersection_areas)\n",
    "\n",
    "    # Obtain the mask for the category with the maximum intersection.\n",
    "    max_intersection_mask = (segmented_image == max_intersection_label).reshape(image.shape[:2])\n",
    "    point_list.append([mean_hsv_values[max_intersection_label][0], mean_hsv_values[max_intersection_label][1], mean_hsv_values[max_intersection_label][2]])\n",
    "    lbp_list.append(mean_lbp_values[max_intersection_label])\n",
    "\n",
    "    # print(mean_lbp_values[max_intersection_label])"
   ]
  },
  {
   "cell_type": "markdown",
   "metadata": {},
   "source": [
    "### Store the water data"
   ]
  },
  {
   "cell_type": "code",
   "execution_count": 7,
   "metadata": {},
   "outputs": [],
   "source": [
    "data = {\n",
    "    \"point_list\": point_list,\n",
    "    \"lbp_list\": lbp_list\n",
    "}\n",
    "with open('water_data.json', 'w') as file:\n",
    "    json.dump(data, file, indent=4)\n"
   ]
  },
  {
   "cell_type": "markdown",
   "metadata": {},
   "source": [
    "### Show the maximum intersection"
   ]
  },
  {
   "cell_type": "code",
   "execution_count": null,
   "metadata": {},
   "outputs": [],
   "source": [
    "plt.subplot(1, 2, 1)\n",
    "plt.imshow(mask, cmap='gray')\n",
    "plt.title('Original Mask')\n",
    "\n",
    "plt.subplot(1, 2, 2)\n",
    "plt.imshow(max_intersection_mask, cmap='gray')\n",
    "plt.title('Max Intersection Category')\n",
    "plt.show()"
   ]
  },
  {
   "cell_type": "markdown",
   "metadata": {},
   "source": [
    "# Predict the segment of the water body"
   ]
  },
  {
   "cell_type": "code",
   "execution_count": null,
   "metadata": {},
   "outputs": [],
   "source": [
    "import cv2\n",
    "import numpy as np\n",
    "from sklearn.cluster import KMeans\n",
    "from sklearn.preprocessing import StandardScaler\n",
    "import matplotlib.pyplot as plt\n",
    "from scipy.spatial import ConvexHull\n",
    "from skimage import feature\n",
    "import json"
   ]
  },
  {
   "cell_type": "markdown",
   "metadata": {},
   "source": [
    "### Read the water data"
   ]
  },
  {
   "cell_type": "code",
   "execution_count": 8,
   "metadata": {},
   "outputs": [],
   "source": [
    "with open('water_data.json', 'r') as file:\n",
    "    loaded_data = json.load(file)\n",
    "\n",
    "loaded_point_list = loaded_data[\"point_list\"]\n",
    "loaded_lbp_list = loaded_data[\"lbp_list\"]"
   ]
  },
  {
   "cell_type": "code",
   "execution_count": null,
   "metadata": {},
   "outputs": [],
   "source": [
    "sorted_indices = np.argsort(loaded_point_list[:, 0])\n",
    "sorted_points_3d = loaded_point_list[sorted_indices]\n",
    "\n",
    "# Divide the collected HSV into four categories\n",
    "split_index_1 = len(sorted_points_3d) // 4\n",
    "split_index_2 = 2 * split_index_1\n",
    "split_index_3 = 3 * split_index_1\n",
    "\n",
    "# Map each category into a convex polygon on the HSV space\n",
    "hull_3d_1 = ConvexHull(sorted_points_3d[:split_index_1])\n",
    "hull_3d_2 = ConvexHull(sorted_points_3d[split_index_1:split_index_2])\n",
    "hull_3d_3 = ConvexHull(sorted_points_3d[split_index_2:split_index_3])\n",
    "hull_3d_4 = ConvexHull(sorted_points_3d[split_index_3:])\n",
    "\n",
    "# Find the threshold for each category\n",
    "split_val_1 = sorted_points_3d[split_index_1][0]\n",
    "split_val_2 = sorted_points_3d[split_index_2][0]\n",
    "split_val_3 = sorted_points_3d[split_index_3][0]\n",
    "print(\"Split_val_1: \" + split_val_1)\n",
    "print(\"Split_val_2: \" + split_val_2)\n",
    "print(\"Split_val_3: \" + split_val_3)"
   ]
  },
  {
   "cell_type": "code",
   "execution_count": null,
   "metadata": {},
   "outputs": [],
   "source": [
    "tolerance = 1\n",
    "def is_hsv_in_polygon(hsv, hull_3d):\n",
    "    hsv_point = np.array(hsv, dtype=np.float32)\n",
    "    is_inside = hull_3d.equations[:, :-1].dot(hsv_point) + hull_3d.equations[:, -1] <= tolerance\n",
    "    return np.all(is_inside)"
   ]
  },
  {
   "cell_type": "code",
   "execution_count": null,
   "metadata": {},
   "outputs": [],
   "source": [
    "for index in range(1,61):\n",
    "    # Read training data image\n",
    "    image = cv2.imread(f'./training_dataset/image/{index}.jpg')\n",
    "    # image = cv2.imread(f'./image_test/{index}.jpg')\n",
    "    image = cv2.cvtColor(image, cv2.COLOR_BGR2RGB)\n",
    "    image_hsv = cv2.cvtColor(image, cv2.COLOR_RGB2HSV)\n",
    "    image_gray = cv2.cvtColor(image, cv2.COLOR_RGB2GRAY)\n",
    "    \n",
    "    # Use K-means with k = 10 for image segmentation.\n",
    "    pixels = image_hsv.reshape(-1, 3)\n",
    "    k_value = 10\n",
    "    kmeans = KMeans(n_clusters=k_value)\n",
    "    kmeans.fit(pixels)\n",
    "    labels = kmeans.labels_\n",
    "    segmented_image = labels.reshape(image.shape[:2])\n",
    "\n",
    "    # Calculate the average LBP (Local Binary Pattern) and HSV for each segment\n",
    "    mean_hsv_values = []\n",
    "    mean_lbp_values = []\n",
    "    for label_value in range(k_value):\n",
    "        label_mask = (labels == label_value).reshape(image.shape[:2])\n",
    "\n",
    "        pixels_in_cluster = image_hsv[label_mask]\n",
    "\n",
    "        lbp_feature = feature.local_binary_pattern(image_gray, P=8, R=1, method=\"uniform\")\n",
    "        lbp_mean = np.mean(lbp_feature[label_mask])\n",
    "        mean_lbp_values.append(lbp_mean)\n",
    "        mean_hsv = np.mean(pixels_in_cluster, axis=0)\n",
    "        mean_hsv_values.append(mean_hsv)\n",
    "    binary_image = np.zeros_like(segmented_image, dtype=np.uint8)\n",
    "\n",
    "    # Select different convex polygons for water features based on different Hue values. \n",
    "    # Determine whether a segment is within the polygon, indicating whether it is a water body.\n",
    "    for i, mean_hsv in enumerate(mean_hsv_values):\n",
    "        label_mask = (segmented_image == i).reshape(image.shape[:2])\n",
    "\n",
    "        if(mean_hsv[0] <= split_val_1):\n",
    "            hull = hull_3d_1\n",
    "        elif(mean_hsv[0] <= split_val_2):\n",
    "            hull = hull_3d_2\n",
    "        elif(mean_hsv[0] <= split_val_3):\n",
    "            hull = hull_3d_3\n",
    "        else:\n",
    "            hull = hull_3d_4\n",
    "        binary_image[label_mask] = 255 if is_hsv_in_polygon(mean_hsv, hull)  else 0\n",
    "\n",
    "\n",
    "    # Store the predicted result\n",
    "    cv2.imwrite(f'./training_dataset/result_Kmean_feature/test_{index}.jpg', binary_image)"
   ]
  }
 ],
 "metadata": {
  "kernelspec": {
   "display_name": "DL",
   "language": "python",
   "name": "python3"
  },
  "language_info": {
   "codemirror_mode": {
    "name": "ipython",
    "version": 3
   },
   "file_extension": ".py",
   "mimetype": "text/x-python",
   "name": "python",
   "nbconvert_exporter": "python",
   "pygments_lexer": "ipython3",
   "version": "3.7.16"
  }
 },
 "nbformat": 4,
 "nbformat_minor": 2
}
